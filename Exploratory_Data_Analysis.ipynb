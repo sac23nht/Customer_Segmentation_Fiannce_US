{
 "cells": [
  {
   "metadata": {},
   "cell_type": "markdown",
   "source": [
    "Exploring the Data:\n",
    "In this project, we're going to work with data from the Survey of Consumer Finances (SCF). The SCF is a survey sponsored by the US Federal Reserve. It tracks financial, demographic, and opinion information about families in the United States. The survey is conducted every three years, and we'll work with an extract of the results from 2019."
   ],
   "id": "8c728bcb0691787c"
  },
  {
   "metadata": {
    "ExecuteTime": {
     "end_time": "2024-11-29T14:24:21.486782Z",
     "start_time": "2024-11-29T14:24:21.444374Z"
    }
   },
   "cell_type": "code",
   "source": [
    "import matplotlib.pyplot as plt\n",
    "import pandas as pd\n",
    "import seaborn as sns"
   ],
   "id": "b688992c978166bc",
   "outputs": [
    {
     "ename": "ModuleNotFoundError",
     "evalue": "No module named 'matplotlib'",
     "output_type": "error",
     "traceback": [
      "\u001B[1;31m---------------------------------------------------------------------------\u001B[0m",
      "\u001B[1;31mModuleNotFoundError\u001B[0m                       Traceback (most recent call last)",
      "Cell \u001B[1;32mIn[1], line 1\u001B[0m\n\u001B[1;32m----> 1\u001B[0m \u001B[38;5;28;01mimport\u001B[39;00m \u001B[38;5;21;01mmatplotlib\u001B[39;00m\u001B[38;5;21;01m.\u001B[39;00m\u001B[38;5;21;01mpyplot\u001B[39;00m \u001B[38;5;28;01mas\u001B[39;00m \u001B[38;5;21;01mplt\u001B[39;00m\n\u001B[0;32m      2\u001B[0m \u001B[38;5;28;01mimport\u001B[39;00m \u001B[38;5;21;01mpandas\u001B[39;00m \u001B[38;5;28;01mas\u001B[39;00m \u001B[38;5;21;01mpd\u001B[39;00m\n\u001B[0;32m      3\u001B[0m \u001B[38;5;28;01mimport\u001B[39;00m \u001B[38;5;21;01mseaborn\u001B[39;00m \u001B[38;5;28;01mas\u001B[39;00m \u001B[38;5;21;01msns\u001B[39;00m\n",
      "\u001B[1;31mModuleNotFoundError\u001B[0m: No module named 'matplotlib'"
     ]
    }
   ],
   "execution_count": 1
  },
  {
   "metadata": {},
   "cell_type": "markdown",
   "source": [
    "Prepare Data\n",
    "Import\n",
    "First, we need to load the data, which is stored in a compressed CSV file: SCFP2019.csv.gz. In the last project, you learned how to decompress files using gzip and the command line. However, pandas read_csv function can work with compressed files directly."
   ],
   "id": "711af95545e8b177"
  },
  {
   "metadata": {},
   "cell_type": "code",
   "outputs": [],
   "execution_count": null,
   "source": [
    "df = pd.read_csv(\"data/SCFP2019.csv.gz\")\n",
    "print(\"df type:\", type(df))\n",
    "print(\"df shape:\", df.shape)\n",
    "df.head()"
   ],
   "id": "869f9229f87d6f70"
  },
  {
   "metadata": {},
   "cell_type": "markdown",
   "source": [
    "One of the first things you might notice here is that this dataset is HUGE — over 20,000 rows and 351 columns! SO MUCH DATA!!! We won't have time to explore all of the features in this dataset, but you can look in the data dictionary for this project for details and links to the official Code Book. For now, let's just say that this dataset tracks all sorts of behaviors relating to the ways households earn, save, and spend money in the United States.\n",
    "\n",
    "For this project, we're going to focus on households that have \"been turned down for credit or feared being denied credit in the past 5 years.\" These households are identified in the \"TURNFEAR\" column."
   ],
   "id": "f1540b09a2a90042"
  },
  {
   "metadata": {},
   "cell_type": "markdown",
   "source": "Use amask to subset create df to only households that have been turned down or feared being turned down for credit (\"TURNFEAR\" == 1). Assign this subset to the variable name df_fear.",
   "id": "6a4e5743c5f8a289"
  },
  {
   "metadata": {},
   "cell_type": "code",
   "outputs": [],
   "execution_count": null,
   "source": [
    "mask = df[\"TURNFEAR\"] == 1\n",
    "df_fear = df[mask]\n",
    "print(\"df_fear type:\", type(df_fear))\n",
    "print(\"df_fear shape:\", df_fear.shape)\n",
    "df_fear.head()"
   ],
   "id": "b34d9f6d54cfbaef"
  },
  {
   "metadata": {},
   "cell_type": "markdown",
   "source": [
    "Explore\n",
    "Age\n",
    "Now that we have our subset, let's explore the characteristics of this group. One of the features is age group (\"AGECL\").\n",
    "Create a list age_groups with the unique values in the \"AGECL\" column. Then review the entry for \"AGECL\" in the Code Book to determine what the values represent."
   ],
   "id": "37f1520d95c54b9e"
  },
  {
   "metadata": {},
   "cell_type": "code",
   "outputs": [],
   "execution_count": null,
   "source": [
    "age_groups = df[\"AGECL\"].unique()\n",
    "print(\"Age Groups:\", age_groups) "
   ],
   "id": "c6318cdb97fd778d"
  },
  {
   "metadata": {},
   "cell_type": "markdown",
   "source": "Created a Series agecl that contains the observations from \"AGECL\" using the true group names.",
   "id": "6eb6e82ac6834ed"
  },
  {
   "metadata": {},
   "cell_type": "code",
   "outputs": [],
   "execution_count": null,
   "source": [
    "agecl_dict = {\n",
    "    1: \"Under 35\",\n",
    "    2: \"35-44\",\n",
    "    3: \"45-54\",\n",
    "    4: \"55-64\",\n",
    "    5: \"65-74\",\n",
    "    6: \"75 or Older\",\n",
    "}\n",
    "\n",
    "age_cl = df[\"AGECL\"].replace(agecl_dict)\n",
    "print(\"age_cl type:\", type(age_cl))\n",
    "print(\"age_cl shape:\", age_cl.shape)\n",
    "age_cl.head()"
   ],
   "id": "f378a7d4cfaef3c5"
  },
  {
   "metadata": {},
   "cell_type": "markdown",
   "source": [
    "age_cl type: <class 'pandas.core.series.Series'>\n",
    "age_cl shape: (28885,)\n",
    "0    75 or Older\n",
    "1    75 or Older\n",
    "2    75 or Older\n",
    "3    75 or Older\n",
    "4    75 or Older\n",
    "Name: AGECL, dtype: object\n",
    "\n",
    "Now that we have better labels, let's make a bar chart and see the age distribution of our group."
   ],
   "id": "608c222c654714af"
  },
  {
   "metadata": {},
   "cell_type": "markdown",
   "source": "Created a bar chart showing the value counts from age_cl. Be sure to label the x-axis \"Age Group\", the y-axis \"Frequency (count)\", and use the title \"Credit Fearful: Age Groups\".",
   "id": "9763fa6f72aa6467"
  },
  {
   "metadata": {},
   "cell_type": "code",
   "outputs": [],
   "execution_count": null,
   "source": [
    "age_cl_value_counts = age_cl.value_counts()\n",
    "\n",
    "# Bar plot of `age_cl_value_counts`\n",
    "age_cl_value_counts.plot(kind=\"bar\", xlabel=\"Age Group\", ylabel=\"Frequency (count)\", title=\"Credit Fearful: Age Groups\");"
   ],
   "id": "ea7cb27860c24a28"
  },
  {
   "metadata": {},
   "cell_type": "markdown",
   "source": [
    "You might have noticed that by creating their own age groups, the authors of the survey have basically made a histogram for us comprised of 6 bins. Our chart is telling us that many of the people who fear being denied credit are younger. But the first two age groups cover a wider range than the other four. So it might be useful to look inside those values to get a more granular understanding of the data.\n",
    "\n",
    "To do that, we'll need to look at a different variable: \"AGE\". Whereas \"AGECL\" was a categorical variable, \"AGE\" is continuous, so we can use it to make a histogram of our own.\n"
   ],
   "id": "538b751c72556dcb"
  },
  {
   "metadata": {},
   "cell_type": "markdown",
   "source": "Created a histogram of the \"AGE\" column with 10 bins. Be sure to label the x-axis \"Age\", the y-axis \"Frequency (count)\", and use the title \"Credit Fearful: Age Distribution\".",
   "id": "b9d16723a9c28bee"
  },
  {
   "metadata": {},
   "cell_type": "code",
   "outputs": [],
   "execution_count": null,
   "source": [
    "# Plot histogram of \"AGE\"\n",
    "plt.hist(df_fear[\"AGE\"], bins=10)\n",
    "plt.xlabel(\"Age\")\n",
    "plt.ylabel(\"Frequency (count)\")\n",
    "plt.title(\"Credit  Fearful: Age Distribution\")\n",
    "plt.show()"
   ],
   "id": "12a0bdf612a49067"
  },
  {
   "metadata": {},
   "cell_type": "markdown",
   "source": "It looks like younger people are still more concerned about being able to secure a loan than older people, but the people who are most concerned seem to be between 30 and 40.",
   "id": "66600b9efd164d0e"
  },
  {
   "metadata": {},
   "cell_type": "markdown",
   "source": "Note that there's no 4 category here. If a value for 4 did exist, it would be reasonable to assign it to \"Asian American / Pacific Islander\" — a group that doesn't seem to be represented in the dataset. This is a strange omission, but you'll often find that large public datasets have these sorts of issues. The important thing is to always read the data dictionary carefully. In this case, remember that this dataset doesn't provide a complete picture of race in America — something that you'd have to explain to anyone interested in your analysis.",
   "id": "e8b109182853dfcd"
  },
  {
   "metadata": {},
   "cell_type": "markdown",
   "source": "Create a horizontal bar chart showing the normalized value counts for \"RACE\". In your chart, you should replace the numerical values with the true group names. Be sure to label the x-axis \"Frequency (%)\", the y-axis \"Race\", and use the title \"Credit Fearful: Racial Groups\". Finally, set the xlim for this plot to (0,1).",
   "id": "8f7f7dd2113f64f9"
  },
  {
   "metadata": {},
   "cell_type": "code",
   "outputs": [],
   "execution_count": null,
   "source": [
    "race_dict = {\n",
    "    1: \"White/Non-Hispanic\",\n",
    "    2: \"Black/African-American\",\n",
    "    3: \"Hispanic\",\n",
    "    5: \"Other\",\n",
    "}\n",
    "race = df_fear[\"RACE\"].replace(race_dict)\n",
    "race_value_counts = race.value_counts(normalize=True)\n",
    "# Create bar chart of race_value_counts\n",
    "race_value_counts.plot(kind=\"barh\")\n",
    "plt.xlim((0, 1))\n",
    "plt.xlabel(\"Frequency (%)\")\n",
    "plt.ylabel(\"Race\")\n",
    "plt.title(\"Credit Fearful: Racial Groups\");"
   ],
   "id": "cce8199dc3a8a66e"
  },
  {
   "metadata": {},
   "cell_type": "markdown",
   "source": "",
   "id": "99e67c7cf8320864"
  },
  {
   "metadata": {},
   "cell_type": "markdown",
   "source": "This suggests that White/Non-Hispanic people worry more about being denied credit, but thinking critically about what we're seeing, that might be because there are more White/Non-Hispanic in the population of the United States than there are other racial groups, and the sample for this survey was specifically drawn to be representative of the population as a whole.",
   "id": "6dfc6318154c6654"
  },
  {
   "metadata": {},
   "cell_type": "markdown",
   "source": "Recreate the horizontal bar chart you just made, but this time use the entire dataset df instead of the subset df_fear. The title of this plot should be \"SCF Respondents: Racial Groups\"",
   "id": "5e8764343d47e3d8"
  },
  {
   "metadata": {},
   "cell_type": "code",
   "outputs": [],
   "execution_count": null,
   "source": [
    "race = df[\"RACE\"]\n",
    "race_value_counts = race.value_counts(normalize=True)\n",
    "# Create bar chart of race_value_counts\n",
    "race_value_counts.plot(kind=\"barh\")\n",
    "plt.xlim((0, 1))\n",
    "plt.xlabel(\"Frequency (%)\")\n",
    "plt.ylabel(\"Race\")\n",
    "plt.title(\"SCF Respondents: Racial Groups\");"
   ],
   "id": "d27faf93bcd4a474"
  },
  {
   "metadata": {},
   "cell_type": "markdown",
   "source": "How does this second bar chart change our perception of the first one? On the one hand, we can see that White Non-Hispanics account for around 70% of whole dataset, but only 54% of credit fearful respondents. On the other hand, Black and Hispanic respondents represent 23% of the whole dataset but 40% of credit fearful respondents. In other words, Black and Hispanic households are actually more likely to be in the credit fearful group.",
   "id": "dc9da0f07247e32d"
  },
  {
   "metadata": {},
   "cell_type": "markdown",
   "source": "Data Ethics: It's important to note that segmenting customers by race (or any other demographic group) for the purpose of lending is illegal in the United States. The same thing might be legal elsewhere, but even if it is, making decisions for things like lending based on racial categories is clearly unethical. This is a great example of how easy it can be to use data science tools to support and propagate systems of inequality. Even though we're \"just\" using numbers, statistical analysis is never neutral, so we always need to be thinking critically about how our work will be interpreted by the end-user.",
   "id": "c1fc08dc5574f98a"
  },
  {
   "metadata": {},
   "cell_type": "markdown",
   "source": [
    "Income\n",
    "What about income level? Are people with lower incomes concerned about being denied credit, or is that something people with more money worry about? In order to answer that question, we'll need to again compare the entire dataset with our subgroup using the \"INCCAT\" feature, which captures income percentile groups. This time, though, we'll make a single, side-by-side bar chart."
   ],
   "id": "d202b443fbab9a77"
  },
  {
   "metadata": {},
   "cell_type": "markdown",
   "source": [
    "Create a DataFrame df_inccat that shows the normalized frequency for income categories for both the credit fearful and non-credit fearful households in the dataset. Your final DataFrame should look something like this:\n",
    "\n",
    "    TURNFEAR   INCCAT  frequency\n",
    "0          0   90-100   0.297296\n",
    "1          0  60-79.9   0.174841\n",
    "2          0  40-59.9   0.143146\n",
    "3          0     0-20   0.140343\n",
    "4          0  21-39.9   0.135933\n",
    "5          0  80-89.9   0.108441\n",
    "6          1     0-20   0.288125\n",
    "7          1  21-39.9   0.256327\n",
    "8          1  40-59.9   0.228856\n",
    "9          1  60-79.9   0.132598\n",
    "10         1   90-100   0.048886\n",
    "11         1  80-89.9   0.045209"
   ],
   "id": "c53553be34d28c44"
  },
  {
   "metadata": {},
   "cell_type": "code",
   "outputs": [],
   "execution_count": null,
   "source": [
    "inccat_dict = {\n",
    "    1: \"0-20\",\n",
    "    2: \"21-39.9\",\n",
    "    3: \"40-59.9\",\n",
    "    4: \"60-79.9\",\n",
    "    5: \"80-89.9\",\n",
    "    6: \"90-100\",\n",
    "}\n",
    "\n",
    "df_inccat = (df[\"INCCAT\"].replace(inccat_dict).groupby(df[\"TURNFEAR\"]) .value_counts(normalize=True)\n",
    "             .rename(\"frequency\").to_frame().reset_index())\n",
    "\n",
    "print(\"df_inccat type:\", type(df_inccat))\n",
    "print(\"df_inccat shape:\", df_inccat.shape)\n",
    "df_inccat"
   ],
   "id": "245711550bd38eb0"
  },
  {
   "metadata": {},
   "cell_type": "markdown",
   "source": "Using seaborn, create a side-by-side bar chart of df_inccat. Set hue to \"TURNFEAR\", and make sure that the income categories are in the correct order along the x-axis. Label to the x-axis \"Income Category\", the y-axis \"Frequency (%)\", and use the title \"Income Distribution: Credit Fearful vs. Non-fearful\".",
   "id": "81fe6fc6f89e4d4b"
  },
  {
   "metadata": {},
   "cell_type": "code",
   "outputs": [],
   "execution_count": null,
   "source": [
    "# Create bar chart of `df_inccat`\n",
    "sns.barplot(\n",
    "  x=\"INCCAT\",\n",
    "    y=\"frequency\",\n",
    "    hue=\"TURNFEAR\",\n",
    "    data=df_inccat,\n",
    "    order=inccat_dict.values()\n",
    " )\n",
    "plt.xlabel(\"Income Category\")\n",
    "plt.ylabel(\"Frequency (%)\")\n",
    "plt.title(\"Income Distribution: Credit Fearful vs. Non-fearful\");"
   ],
   "id": "473f1e6529b48cbe"
  },
  {
   "metadata": {},
   "cell_type": "markdown",
   "source": [
    "Comparing the income categories across the fearful and non-fearful groups, we can see that credit fearful households are much more common in the lower income categories. In other words, the credit fearful have lower incomes.\n",
    "\n",
    "So, based on all this, what do we know? Among the people who responded that they were indeed worried about being approved for credit after having been denied in the past five years, a plurality of the young and low-income had the highest number of respondents. That makes sense, right? Young people tend to make less money and rely more heavily on credit to get their lives off the ground, so having been denied credit makes them more anxious about the future.\n",
    "\n",
    "\n",
    "\n",
    "\n",
    "Assets\n",
    "Not all the data is demographic, though. If you were working for a bank, you would probably care less about how old the people are, and more about their ability to carry more debt. If we were going to build a model for that, we'd want to establish some relationships among the variables, and making some correlation matrices is a good place to start.\n",
    "\n",
    "First, let's zoom out a little bit. We've been looking at only the people who answered \"yes\" when the survey asked about \"TURNFEAR\", but what if we looked at everyone instead? To begin with, let's bring in a clear dataset and run a single correlation."
   ],
   "id": "d4953933a9b720bc"
  },
  {
   "metadata": {},
   "cell_type": "markdown",
   "source": "Calculated the correlation coefficient for \"ASSET\" and \"HOUSES\" in the whole dataset df.",
   "id": "418fc478f3dd7a07"
  },
  {
   "metadata": {},
   "cell_type": "code",
   "outputs": [],
   "execution_count": null,
   "source": [
    "asset_house_corr = df[\"ASSET\"].corr(df[\"HOUSES\"])\n",
    "print(\"SCF: Asset Houses Correlation:\", asset_house_corr)"
   ],
   "id": "455c9b75b5e76ff2"
  },
  {
   "metadata": {},
   "cell_type": "markdown",
   "source": "That's a moderate positive correlation, which we would probably expect, right? For many Americans, the value of their primary residence makes up most of the value of their total assets. What about the people in our TURNFEAR subset, though? Let's run that correlation to see if there's a difference.",
   "id": "bb14a22b9f55b65c"
  },
  {
   "metadata": {},
   "cell_type": "markdown",
   "source": "Calculated the correlation coefficient for \"ASSET\" and \"HOUSES\" in the whole credit-fearful subset df_fear.",
   "id": "faabd2f9c02bb6c2"
  },
  {
   "metadata": {},
   "cell_type": "code",
   "outputs": [],
   "execution_count": null,
   "source": [
    "asset_house_corr = df_fear[\"ASSET\"].corr(df_fear[\"HOUSES\"])\n",
    "print(\"Credit Fearful: Asset Houses Correlation:\", asset_house_corr)"
   ],
   "id": "e6411a7d676b5e3"
  },
  {
   "metadata": {},
   "cell_type": "markdown",
   "source": [
    "Aha! They're different! It's still only a moderate positive correlation, but the relationship between the total value of assets and the value of the primary residence is stronger for our TURNFEAR group than it is for the population as a whole.\n",
    "\n",
    "Let's make correlation matrices using the rest of the data for both df and df_fear and see if the differences persist. Here, we'll look at only 5 features: \"ASSET\", \"HOUSES\", \"INCOME\", \"DEBT\", and \"EDUC\"."
   ],
   "id": "e707ab58829aa48d"
  },
  {
   "metadata": {},
   "cell_type": "markdown",
   "source": "Make a correlation matrix using df, considering only the columns \"ASSET\", \"HOUSES\", \"INCOME\", \"DEBT\", and \"EDUC\".",
   "id": "9850e00a1765e6"
  },
  {
   "metadata": {},
   "cell_type": "code",
   "outputs": [],
   "execution_count": null,
   "source": [
    "cols = [\"ASSET\", \"HOUSES\", \"INCOME\", \"DEBT\", \"EDUC\"]\n",
    "corr = df[cols].corr()\n",
    "corr.head()\n",
    "corr.style.background_gradient(axis=None)"
   ],
   "id": "6e8f4fb363e62e80"
  },
  {
   "metadata": {},
   "cell_type": "markdown",
   "source": "Make a correlation matrix using df_fear.",
   "id": "b11a67de28a5148c"
  },
  {
   "metadata": {},
   "cell_type": "code",
   "outputs": [],
   "execution_count": null,
   "source": [
    "corr = df_fear[cols].corr()\n",
    "corr.style.background_gradient(axis=None)"
   ],
   "id": "c9072231accfd131"
  },
  {
   "metadata": {},
   "cell_type": "markdown",
   "source": [
    "Whoa! There are some pretty important differences here! The relationship between \"DEBT\" and \"HOUSES\" is positive for both datasets, but while the coefficient for df is fairly weak at 0.26, the same number for df_fear is 0.96.\n",
    "\n",
    "Remember, the closer a correlation coefficient is to 1.0, the more exactly they correspond. In this case, that means the value of the primary residence and the total debt held by the household is getting pretty close to being the same. This suggests that the main source of debt being carried by our \"TURNFEAR\" folks is their primary residence, which, again, is an intuitive finding.\n",
    "\n",
    "\"DEBT\" and \"ASSET\" share a similarly striking difference, as do \"EDUC\" and \"DEBT\" which, while not as extreme a contrast as the other, is still big enough to catch the interest of our hypothetical banker.\n",
    "\n",
    "Let's make some visualizations to show these relationships graphically."
   ],
   "id": "df7a2ba312df3558"
  },
  {
   "metadata": {},
   "cell_type": "markdown",
   "source": [
    "Education\n",
    "First, let's start with education levels \"EDUC\", comparing credit fearful and non-credit fearful groups."
   ],
   "id": "674bf41618532add"
  },
  {
   "metadata": {},
   "cell_type": "markdown",
   "source": [
    "Create a DataFrame `df_educ` that shows the normalized frequency for education categories for both the credit fearful and non-credit fearful households in the dataset. This will be similar in format to `df_inccat`, but focus on education. **Note** that you don't need to replace the numerical values in `\"EDUC\"` with the true labels.\n",
    "\n",
    "```\n",
    "    TURNFEAR  EDUC  frequency\n",
    "0          0    12   0.257481\n",
    "1          0     8   0.192029\n",
    "2          0    13   0.149823\n",
    "3          0     9   0.129833\n",
    "4          0    14   0.096117\n",
    "5          0    10   0.051150\n",
    "...\n",
    "25         1     5   0.015358\n",
    "26         1     2   0.012979\n",
    "27         1     3   0.011897\n",
    "28         1     1   0.005408\n",
    "29         1    -1   0.003245"
   ],
   "id": "f21bb743c04e628f"
  },
  {
   "metadata": {},
   "cell_type": "code",
   "outputs": [],
   "execution_count": null,
   "source": [
    "df_educ = (df[\"EDUC\"].groupby(df[\"TURNFEAR\"]).value_counts(normalize=True).rename(\"frequency\").to_frame().reset_index()\n",
    "          )\n",
    "print(\"df_educ type:\", type(df_educ))\n",
    "print(\"df_educ shape:\", df_educ.shape)\n",
    "df_educ.head()"
   ],
   "id": "2d609467067369c2"
  },
  {
   "metadata": {},
   "cell_type": "markdown",
   "source": "Using seaborn, create a side-by-side bar chart of df_educ. Set hue to \"TURNFEAR\", and make sure that the education categories are in the correct order along the x-axis. Label to the x-axis \"Education Level\", the y-axis \"Frequency (%)\", and use the title \"Educational Attainment: Credit Fearful vs. Non-fearful\".",
   "id": "d89750a793da8b02"
  },
  {
   "metadata": {},
   "cell_type": "code",
   "outputs": [],
   "execution_count": null,
   "source": [
    "# Create bar chart of `df_educ`\n",
    "sns.barplot(\n",
    "     x=\"EDUC\",\n",
    "     y=\"frequency\",\n",
    "    hue=\"TURNFEAR\",\n",
    "    data=df_educ\n",
    ")\n",
    "\n",
    "plt.xlabel(\"Education Level\")\n",
    "plt.ylabel(\"Frequency (%)\")\n",
    "plt.title(\"Educational Attainment: Credit Fearful vs. Non-fearful\");"
   ],
   "id": "e1fb197d6d1f62d7"
  },
  {
   "metadata": {},
   "cell_type": "markdown",
   "source": "In this plot, we can see that a much higher proportion of credit-fearful respondents have only a high school diploma, while university degrees are more common among the non-credit fearful.",
   "id": "48c57d02fc863b74"
  },
  {
   "metadata": {},
   "cell_type": "markdown",
   "source": [
    "Debt\n",
    "Let's keep going with some scatter plots that look at debt."
   ],
   "id": "ea0d2ead2e65a5cf"
  },
  {
   "metadata": {},
   "cell_type": "markdown",
   "source": "Use df to make a scatter plot showing the relationship between DEBT and ASSET.",
   "id": "b19fc66c817e4584"
  },
  {
   "metadata": {},
   "cell_type": "code",
   "outputs": [],
   "execution_count": null,
   "source": [
    "# Create scatter plot of ASSET vs DEBT, df\n",
    "df.plot.scatter(x=\"DEBT\", y=\"ASSET\");\n"
   ],
   "id": "d5df7d81e6e15ec4"
  },
  {
   "metadata": {},
   "cell_type": "markdown",
   "source": "Use df_fear to make a scatter plot showing the relationship between DEBT and ASSET.",
   "id": "9c77d19b702e504a"
  },
  {
   "metadata": {},
   "cell_type": "code",
   "outputs": [],
   "execution_count": null,
   "source": [
    "# Create scatter plot of ASSET vs DEBT, df_fear\n",
    "df_fear.plot.scatter(x=\"DEBT\", y=\"ASSET\");"
   ],
   "id": "98a143caabc1cc57"
  },
  {
   "metadata": {},
   "cell_type": "markdown",
   "source": [
    "You can see relationship in our df_fear graph is flatter than the one in our df graph, but they clearly are different.\n",
    "\n",
    "Let's end with the most striking difference from our matrices, and make some scatter plots showing the difference between HOUSES and DEBT."
   ],
   "id": "516b553f89b78645"
  },
  {
   "metadata": {},
   "cell_type": "markdown",
   "source": "Use df to make a scatter plot showing the relationship between HOUSES and DEBT.",
   "id": "bec6f8d28482218d"
  },
  {
   "metadata": {},
   "cell_type": "code",
   "outputs": [],
   "execution_count": null,
   "source": [
    "# Create scatter plot of HOUSES vs DEBT, df\n",
    "df.plot.scatter(x=\"HOUSES\", y=\"DEBT\")"
   ],
   "id": "c9eb9ce65476c426"
  },
  {
   "metadata": {},
   "cell_type": "markdown",
   "source": "And make the same scatter plot using df_fear.",
   "id": "9fadb9da37f7bedd"
  },
  {
   "metadata": {},
   "cell_type": "markdown",
   "source": "Use df_fear to make a scatter plot showing the relationship between HOUSES and DEBT.",
   "id": "c33c27816ad1fe38"
  },
  {
   "metadata": {},
   "cell_type": "code",
   "outputs": [],
   "execution_count": null,
   "source": [
    "# Create scatter plot of HOUSES vs DEBT, df_fear\n",
    "df_fear.plot.scatter(x=\"HOUSES\", y=\"DEBT\")"
   ],
   "id": "e21f07c40d896df7"
  },
  {
   "metadata": {},
   "cell_type": "markdown",
   "source": "The outliers make it a little difficult to see the difference between these two plots, but the relationship is clear enough: our df_fear graph shows an almost perfect linear relationship, while our df graph shows something a little more muddled. You might also notice that the datapoints on the df_fear graph form several little groups. Those are called \"clusters,\" and we'll be talking more about how to analyze clustered data in the next lesson.",
   "id": "5e1ee102339af741"
  }
 ],
 "metadata": {
  "kernelspec": {
   "display_name": "Python 3",
   "language": "python",
   "name": "python3"
  },
  "language_info": {
   "codemirror_mode": {
    "name": "ipython",
    "version": 2
   },
   "file_extension": ".py",
   "mimetype": "text/x-python",
   "name": "python",
   "nbconvert_exporter": "python",
   "pygments_lexer": "ipython2",
   "version": "2.7.6"
  }
 },
 "nbformat": 4,
 "nbformat_minor": 5
}
